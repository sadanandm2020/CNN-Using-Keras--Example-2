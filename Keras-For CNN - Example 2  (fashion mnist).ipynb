{
 "cells": [
  {
   "cell_type": "code",
   "execution_count": 62,
   "metadata": {},
   "outputs": [],
   "source": [
    "import keras\n",
    "from keras.datasets import mnist\n",
    "from keras.models import Sequential\n",
    "from keras.layers import Dense, Dropout, Flatten\n",
    "from keras.layers import Conv2D, MaxPooling2D\n",
    "import numpy as np"
   ]
  },
  {
   "cell_type": "code",
   "execution_count": 63,
   "metadata": {},
   "outputs": [],
   "source": [
    "fashion_mnist = keras.datasets.fashion_mnist"
   ]
  },
  {
   "cell_type": "code",
   "execution_count": 64,
   "metadata": {},
   "outputs": [],
   "source": [
    "(x_train, y_train), (x_test, y_test) = fashion_mnist.load_data()"
   ]
  },
  {
   "cell_type": "code",
   "execution_count": 65,
   "metadata": {},
   "outputs": [
    {
     "data": {
      "text/plain": [
       "(10000,)"
      ]
     },
     "execution_count": 65,
     "metadata": {},
     "output_type": "execute_result"
    }
   ],
   "source": [
    "x_train[0].shape\n",
    "x_train= x_train/255.0\n",
    "x_test= x_test/255.0\n",
    "x_train[0].shape\n",
    "\n",
    "y_test.shape"
   ]
  },
  {
   "cell_type": "code",
   "execution_count": 66,
   "metadata": {},
   "outputs": [],
   "source": [
    "img_rows, img_cols = 28, 28\n",
    "#x_train = x_train.reshape(60000,28,28,1)\n",
    "#x_test = x_test.reshape(10000,28,28,1)\n",
    "x_train=x_train.reshape(len(x_train),28,28,1)\n",
    "x_test=x_test.reshape(len(x_test),28,28,1)\n"
   ]
  },
  {
   "cell_type": "code",
   "execution_count": 67,
   "metadata": {},
   "outputs": [],
   "source": [
    "batch_size = 200\n",
    "num_classes = 10\n",
    "epochs = 5\n",
    "\n",
    "y_train = keras.utils.to_categorical(y_train,num_classes)\n",
    "y_test = keras.utils.to_categorical(y_test, num_classes)\n",
    "\n",
    "#y_train.shape"
   ]
  },
  {
   "cell_type": "code",
   "execution_count": 68,
   "metadata": {},
   "outputs": [],
   "source": [
    "model = Sequential()\n",
    "\n",
    "model.add(Conv2D(32, kernel_size=(3, 3),activation='relu',input_shape=(28,28,1)))\n",
    "\n",
    "model.add(Conv2D(64, (3, 3), activation='relu'))\n",
    "\n",
    "model.add(MaxPooling2D(pool_size=(2, 2)))\n",
    "\n",
    "model.add(Dropout(0.25))\n",
    "\n",
    "model.add(Flatten())\n",
    "\n",
    "model.add(Dense(128, activation='relu'))\n",
    "\n",
    "model.add(Dropout(0.5))\n",
    "\n",
    "model.add(Dense(num_classes, activation='softmax'))\n",
    "\n",
    "model.compile(loss=keras.losses.categorical_crossentropy,optimizer=keras.optimizers.Adadelta(),metrics=['accuracy'])"
   ]
  },
  {
   "cell_type": "code",
   "execution_count": 69,
   "metadata": {},
   "outputs": [
    {
     "name": "stdout",
     "output_type": "stream",
     "text": [
      "Train on 60000 samples, validate on 10000 samples\n",
      "Epoch 1/5\n",
      "60000/60000 [==============================] - 104s 2ms/step - loss: 0.6271 - acc: 0.7779 - val_loss: 0.4128 - val_acc: 0.8444\n",
      "Epoch 2/5\n",
      "60000/60000 [==============================] - 112s 2ms/step - loss: 0.3813 - acc: 0.8653 - val_loss: 0.3352 - val_acc: 0.8744\n",
      "Epoch 3/5\n",
      "60000/60000 [==============================] - 111s 2ms/step - loss: 0.3314 - acc: 0.8826 - val_loss: 0.2914 - val_acc: 0.8935\n",
      "Epoch 4/5\n",
      "60000/60000 [==============================] - 112s 2ms/step - loss: 0.3007 - acc: 0.8911 - val_loss: 0.2690 - val_acc: 0.9011\n",
      "Epoch 5/5\n",
      "60000/60000 [==============================] - 112s 2ms/step - loss: 0.2743 - acc: 0.9012 - val_loss: 0.2590 - val_acc: 0.9055\n",
      "Test loss: 0.25896080849170683\n",
      "Test accuracy: 0.9055\n"
     ]
    }
   ],
   "source": [
    "model.fit(x_train, y_train,batch_size=batch_size,epochs=epochs,verbose=1,validation_data=(x_test, y_test))\n",
    "\n",
    "\n",
    "\n",
    "\n",
    "score = model.evaluate(x_test, y_test, verbose=0)\n",
    "print('Test loss:', score[0])\n",
    "print('Test accuracy:', score[1])"
   ]
  },
  {
   "cell_type": "code",
   "execution_count": 70,
   "metadata": {},
   "outputs": [
    {
     "data": {
      "text/plain": [
       "array([[1.12181920e-06, 1.19714826e-07, 5.83381734e-06, ...,\n",
       "        3.67182051e-03, 3.29738009e-06, 9.95669127e-01],\n",
       "       [2.62939120e-05, 6.18858133e-12, 9.99872327e-01, ...,\n",
       "        1.38138685e-11, 1.46282353e-09, 5.98195495e-12],\n",
       "       [1.36984013e-07, 9.99999523e-01, 1.54627500e-09, ...,\n",
       "        1.82120352e-09, 1.56346691e-09, 1.56991853e-09],\n",
       "       ...,\n",
       "       [2.26297470e-05, 2.41341098e-08, 4.30391956e-05, ...,\n",
       "        8.21673711e-06, 9.99823511e-01, 8.41845988e-08],\n",
       "       [5.22482040e-08, 9.99995589e-01, 7.10120351e-10, ...,\n",
       "        7.24100335e-09, 1.57173696e-09, 1.41504781e-08],\n",
       "       [1.42231947e-04, 1.04249393e-05, 3.29139555e-04, ...,\n",
       "        4.51508947e-02, 3.39917745e-03, 8.80982378e-04]], dtype=float32)"
      ]
     },
     "execution_count": 70,
     "metadata": {},
     "output_type": "execute_result"
    }
   ],
   "source": [
    "y_pred = model.predict(x_test)\n",
    "\n",
    "y_pred"
   ]
  },
  {
   "cell_type": "code",
   "execution_count": null,
   "metadata": {},
   "outputs": [],
   "source": []
  }
 ],
 "metadata": {
  "kernelspec": {
   "display_name": "Python [conda env:root] *",
   "language": "python",
   "name": "conda-root-py"
  },
  "language_info": {
   "codemirror_mode": {
    "name": "ipython",
    "version": 3
   },
   "file_extension": ".py",
   "mimetype": "text/x-python",
   "name": "python",
   "nbconvert_exporter": "python",
   "pygments_lexer": "ipython3",
   "version": "3.7.4"
  }
 },
 "nbformat": 4,
 "nbformat_minor": 2
}
